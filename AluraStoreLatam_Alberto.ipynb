{
  "nbformat": 4,
  "nbformat_minor": 0,
  "metadata": {
    "colab": {
      "provenance": []
    },
    "kernelspec": {
      "name": "python3",
      "display_name": "Python 3"
    },
    "language_info": {
      "name": "python"
    }
  },
  "cells": [
    {
      "cell_type": "markdown",
      "source": [
        "### Importación de datos\n",
        "\n"
      ],
      "metadata": {
        "id": "RhEdWd9YUR6H"
      }
    },
    {
      "cell_type": "code",
      "execution_count": 82,
      "metadata": {
        "colab": {
          "base_uri": "https://localhost:8080/",
          "height": 206
        },
        "id": "T3EvaeQ_INIL",
        "outputId": "c50c827e-12bd-48b4-ec5f-566cc0234fd3"
      },
      "outputs": [
        {
          "output_type": "execute_result",
          "data": {
            "text/plain": [
              "            Producto Categoría del Producto    Precio  Costo de envío  \\\n",
              "0  Asistente virtual           Electrónicos  164300.0          6900.0   \n",
              "1    Mesa de comedor                Muebles  192300.0          8400.0   \n",
              "2      Juego de mesa               Juguetes  209600.0         15900.0   \n",
              "3         Microondas      Electrodomésticos  757500.0         41000.0   \n",
              "4   Silla de oficina                Muebles  335200.0         20200.0   \n",
              "\n",
              "  Fecha de Compra         Vendedor Lugar de Compra  Calificación  \\\n",
              "0      16/01/2021      Pedro Gomez          Bogotá             4   \n",
              "1      18/05/2022  Beatriz Morales        Medellín             1   \n",
              "2      15/03/2021   Juan Fernandez       Cartagena             1   \n",
              "3      03/05/2022   Juan Fernandez            Cali             4   \n",
              "4      07/11/2020    Maria Alfonso        Medellín             5   \n",
              "\n",
              "       Método de pago  Cantidad de cuotas       lat       lon  \n",
              "0  Tarjeta de crédito                   8   4.60971 -74.08175  \n",
              "1  Tarjeta de crédito                   4   6.25184 -75.56359  \n",
              "2  Tarjeta de crédito                   1  10.39972 -75.51444  \n",
              "3               Nequi                   1   3.43722 -76.52250  \n",
              "4               Nequi                   1   6.25184 -75.56359  "
            ],
            "text/html": [
              "\n",
              "  <div id=\"df-6cfe9324-fa87-4b0a-b784-c36af75f75c3\" class=\"colab-df-container\">\n",
              "    <div>\n",
              "<style scoped>\n",
              "    .dataframe tbody tr th:only-of-type {\n",
              "        vertical-align: middle;\n",
              "    }\n",
              "\n",
              "    .dataframe tbody tr th {\n",
              "        vertical-align: top;\n",
              "    }\n",
              "\n",
              "    .dataframe thead th {\n",
              "        text-align: right;\n",
              "    }\n",
              "</style>\n",
              "<table border=\"1\" class=\"dataframe\">\n",
              "  <thead>\n",
              "    <tr style=\"text-align: right;\">\n",
              "      <th></th>\n",
              "      <th>Producto</th>\n",
              "      <th>Categoría del Producto</th>\n",
              "      <th>Precio</th>\n",
              "      <th>Costo de envío</th>\n",
              "      <th>Fecha de Compra</th>\n",
              "      <th>Vendedor</th>\n",
              "      <th>Lugar de Compra</th>\n",
              "      <th>Calificación</th>\n",
              "      <th>Método de pago</th>\n",
              "      <th>Cantidad de cuotas</th>\n",
              "      <th>lat</th>\n",
              "      <th>lon</th>\n",
              "    </tr>\n",
              "  </thead>\n",
              "  <tbody>\n",
              "    <tr>\n",
              "      <th>0</th>\n",
              "      <td>Asistente virtual</td>\n",
              "      <td>Electrónicos</td>\n",
              "      <td>164300.0</td>\n",
              "      <td>6900.0</td>\n",
              "      <td>16/01/2021</td>\n",
              "      <td>Pedro Gomez</td>\n",
              "      <td>Bogotá</td>\n",
              "      <td>4</td>\n",
              "      <td>Tarjeta de crédito</td>\n",
              "      <td>8</td>\n",
              "      <td>4.60971</td>\n",
              "      <td>-74.08175</td>\n",
              "    </tr>\n",
              "    <tr>\n",
              "      <th>1</th>\n",
              "      <td>Mesa de comedor</td>\n",
              "      <td>Muebles</td>\n",
              "      <td>192300.0</td>\n",
              "      <td>8400.0</td>\n",
              "      <td>18/05/2022</td>\n",
              "      <td>Beatriz Morales</td>\n",
              "      <td>Medellín</td>\n",
              "      <td>1</td>\n",
              "      <td>Tarjeta de crédito</td>\n",
              "      <td>4</td>\n",
              "      <td>6.25184</td>\n",
              "      <td>-75.56359</td>\n",
              "    </tr>\n",
              "    <tr>\n",
              "      <th>2</th>\n",
              "      <td>Juego de mesa</td>\n",
              "      <td>Juguetes</td>\n",
              "      <td>209600.0</td>\n",
              "      <td>15900.0</td>\n",
              "      <td>15/03/2021</td>\n",
              "      <td>Juan Fernandez</td>\n",
              "      <td>Cartagena</td>\n",
              "      <td>1</td>\n",
              "      <td>Tarjeta de crédito</td>\n",
              "      <td>1</td>\n",
              "      <td>10.39972</td>\n",
              "      <td>-75.51444</td>\n",
              "    </tr>\n",
              "    <tr>\n",
              "      <th>3</th>\n",
              "      <td>Microondas</td>\n",
              "      <td>Electrodomésticos</td>\n",
              "      <td>757500.0</td>\n",
              "      <td>41000.0</td>\n",
              "      <td>03/05/2022</td>\n",
              "      <td>Juan Fernandez</td>\n",
              "      <td>Cali</td>\n",
              "      <td>4</td>\n",
              "      <td>Nequi</td>\n",
              "      <td>1</td>\n",
              "      <td>3.43722</td>\n",
              "      <td>-76.52250</td>\n",
              "    </tr>\n",
              "    <tr>\n",
              "      <th>4</th>\n",
              "      <td>Silla de oficina</td>\n",
              "      <td>Muebles</td>\n",
              "      <td>335200.0</td>\n",
              "      <td>20200.0</td>\n",
              "      <td>07/11/2020</td>\n",
              "      <td>Maria Alfonso</td>\n",
              "      <td>Medellín</td>\n",
              "      <td>5</td>\n",
              "      <td>Nequi</td>\n",
              "      <td>1</td>\n",
              "      <td>6.25184</td>\n",
              "      <td>-75.56359</td>\n",
              "    </tr>\n",
              "  </tbody>\n",
              "</table>\n",
              "</div>\n",
              "    <div class=\"colab-df-buttons\">\n",
              "\n",
              "  <div class=\"colab-df-container\">\n",
              "    <button class=\"colab-df-convert\" onclick=\"convertToInteractive('df-6cfe9324-fa87-4b0a-b784-c36af75f75c3')\"\n",
              "            title=\"Convert this dataframe to an interactive table.\"\n",
              "            style=\"display:none;\">\n",
              "\n",
              "  <svg xmlns=\"http://www.w3.org/2000/svg\" height=\"24px\" viewBox=\"0 -960 960 960\">\n",
              "    <path d=\"M120-120v-720h720v720H120Zm60-500h600v-160H180v160Zm220 220h160v-160H400v160Zm0 220h160v-160H400v160ZM180-400h160v-160H180v160Zm440 0h160v-160H620v160ZM180-180h160v-160H180v160Zm440 0h160v-160H620v160Z\"/>\n",
              "  </svg>\n",
              "    </button>\n",
              "\n",
              "  <style>\n",
              "    .colab-df-container {\n",
              "      display:flex;\n",
              "      gap: 12px;\n",
              "    }\n",
              "\n",
              "    .colab-df-convert {\n",
              "      background-color: #E8F0FE;\n",
              "      border: none;\n",
              "      border-radius: 50%;\n",
              "      cursor: pointer;\n",
              "      display: none;\n",
              "      fill: #1967D2;\n",
              "      height: 32px;\n",
              "      padding: 0 0 0 0;\n",
              "      width: 32px;\n",
              "    }\n",
              "\n",
              "    .colab-df-convert:hover {\n",
              "      background-color: #E2EBFA;\n",
              "      box-shadow: 0px 1px 2px rgba(60, 64, 67, 0.3), 0px 1px 3px 1px rgba(60, 64, 67, 0.15);\n",
              "      fill: #174EA6;\n",
              "    }\n",
              "\n",
              "    .colab-df-buttons div {\n",
              "      margin-bottom: 4px;\n",
              "    }\n",
              "\n",
              "    [theme=dark] .colab-df-convert {\n",
              "      background-color: #3B4455;\n",
              "      fill: #D2E3FC;\n",
              "    }\n",
              "\n",
              "    [theme=dark] .colab-df-convert:hover {\n",
              "      background-color: #434B5C;\n",
              "      box-shadow: 0px 1px 3px 1px rgba(0, 0, 0, 0.15);\n",
              "      filter: drop-shadow(0px 1px 2px rgba(0, 0, 0, 0.3));\n",
              "      fill: #FFFFFF;\n",
              "    }\n",
              "  </style>\n",
              "\n",
              "    <script>\n",
              "      const buttonEl =\n",
              "        document.querySelector('#df-6cfe9324-fa87-4b0a-b784-c36af75f75c3 button.colab-df-convert');\n",
              "      buttonEl.style.display =\n",
              "        google.colab.kernel.accessAllowed ? 'block' : 'none';\n",
              "\n",
              "      async function convertToInteractive(key) {\n",
              "        const element = document.querySelector('#df-6cfe9324-fa87-4b0a-b784-c36af75f75c3');\n",
              "        const dataTable =\n",
              "          await google.colab.kernel.invokeFunction('convertToInteractive',\n",
              "                                                    [key], {});\n",
              "        if (!dataTable) return;\n",
              "\n",
              "        const docLinkHtml = 'Like what you see? Visit the ' +\n",
              "          '<a target=\"_blank\" href=https://colab.research.google.com/notebooks/data_table.ipynb>data table notebook</a>'\n",
              "          + ' to learn more about interactive tables.';\n",
              "        element.innerHTML = '';\n",
              "        dataTable['output_type'] = 'display_data';\n",
              "        await google.colab.output.renderOutput(dataTable, element);\n",
              "        const docLink = document.createElement('div');\n",
              "        docLink.innerHTML = docLinkHtml;\n",
              "        element.appendChild(docLink);\n",
              "      }\n",
              "    </script>\n",
              "  </div>\n",
              "\n",
              "\n",
              "<div id=\"df-9853d09c-edbe-4b79-afbd-3a2f4217601d\">\n",
              "  <button class=\"colab-df-quickchart\" onclick=\"quickchart('df-9853d09c-edbe-4b79-afbd-3a2f4217601d')\"\n",
              "            title=\"Suggest charts\"\n",
              "            style=\"display:none;\">\n",
              "\n",
              "<svg xmlns=\"http://www.w3.org/2000/svg\" height=\"24px\"viewBox=\"0 0 24 24\"\n",
              "     width=\"24px\">\n",
              "    <g>\n",
              "        <path d=\"M19 3H5c-1.1 0-2 .9-2 2v14c0 1.1.9 2 2 2h14c1.1 0 2-.9 2-2V5c0-1.1-.9-2-2-2zM9 17H7v-7h2v7zm4 0h-2V7h2v10zm4 0h-2v-4h2v4z\"/>\n",
              "    </g>\n",
              "</svg>\n",
              "  </button>\n",
              "\n",
              "<style>\n",
              "  .colab-df-quickchart {\n",
              "      --bg-color: #E8F0FE;\n",
              "      --fill-color: #1967D2;\n",
              "      --hover-bg-color: #E2EBFA;\n",
              "      --hover-fill-color: #174EA6;\n",
              "      --disabled-fill-color: #AAA;\n",
              "      --disabled-bg-color: #DDD;\n",
              "  }\n",
              "\n",
              "  [theme=dark] .colab-df-quickchart {\n",
              "      --bg-color: #3B4455;\n",
              "      --fill-color: #D2E3FC;\n",
              "      --hover-bg-color: #434B5C;\n",
              "      --hover-fill-color: #FFFFFF;\n",
              "      --disabled-bg-color: #3B4455;\n",
              "      --disabled-fill-color: #666;\n",
              "  }\n",
              "\n",
              "  .colab-df-quickchart {\n",
              "    background-color: var(--bg-color);\n",
              "    border: none;\n",
              "    border-radius: 50%;\n",
              "    cursor: pointer;\n",
              "    display: none;\n",
              "    fill: var(--fill-color);\n",
              "    height: 32px;\n",
              "    padding: 0;\n",
              "    width: 32px;\n",
              "  }\n",
              "\n",
              "  .colab-df-quickchart:hover {\n",
              "    background-color: var(--hover-bg-color);\n",
              "    box-shadow: 0 1px 2px rgba(60, 64, 67, 0.3), 0 1px 3px 1px rgba(60, 64, 67, 0.15);\n",
              "    fill: var(--button-hover-fill-color);\n",
              "  }\n",
              "\n",
              "  .colab-df-quickchart-complete:disabled,\n",
              "  .colab-df-quickchart-complete:disabled:hover {\n",
              "    background-color: var(--disabled-bg-color);\n",
              "    fill: var(--disabled-fill-color);\n",
              "    box-shadow: none;\n",
              "  }\n",
              "\n",
              "  .colab-df-spinner {\n",
              "    border: 2px solid var(--fill-color);\n",
              "    border-color: transparent;\n",
              "    border-bottom-color: var(--fill-color);\n",
              "    animation:\n",
              "      spin 1s steps(1) infinite;\n",
              "  }\n",
              "\n",
              "  @keyframes spin {\n",
              "    0% {\n",
              "      border-color: transparent;\n",
              "      border-bottom-color: var(--fill-color);\n",
              "      border-left-color: var(--fill-color);\n",
              "    }\n",
              "    20% {\n",
              "      border-color: transparent;\n",
              "      border-left-color: var(--fill-color);\n",
              "      border-top-color: var(--fill-color);\n",
              "    }\n",
              "    30% {\n",
              "      border-color: transparent;\n",
              "      border-left-color: var(--fill-color);\n",
              "      border-top-color: var(--fill-color);\n",
              "      border-right-color: var(--fill-color);\n",
              "    }\n",
              "    40% {\n",
              "      border-color: transparent;\n",
              "      border-right-color: var(--fill-color);\n",
              "      border-top-color: var(--fill-color);\n",
              "    }\n",
              "    60% {\n",
              "      border-color: transparent;\n",
              "      border-right-color: var(--fill-color);\n",
              "    }\n",
              "    80% {\n",
              "      border-color: transparent;\n",
              "      border-right-color: var(--fill-color);\n",
              "      border-bottom-color: var(--fill-color);\n",
              "    }\n",
              "    90% {\n",
              "      border-color: transparent;\n",
              "      border-bottom-color: var(--fill-color);\n",
              "    }\n",
              "  }\n",
              "</style>\n",
              "\n",
              "  <script>\n",
              "    async function quickchart(key) {\n",
              "      const quickchartButtonEl =\n",
              "        document.querySelector('#' + key + ' button');\n",
              "      quickchartButtonEl.disabled = true;  // To prevent multiple clicks.\n",
              "      quickchartButtonEl.classList.add('colab-df-spinner');\n",
              "      try {\n",
              "        const charts = await google.colab.kernel.invokeFunction(\n",
              "            'suggestCharts', [key], {});\n",
              "      } catch (error) {\n",
              "        console.error('Error during call to suggestCharts:', error);\n",
              "      }\n",
              "      quickchartButtonEl.classList.remove('colab-df-spinner');\n",
              "      quickchartButtonEl.classList.add('colab-df-quickchart-complete');\n",
              "    }\n",
              "    (() => {\n",
              "      let quickchartButtonEl =\n",
              "        document.querySelector('#df-9853d09c-edbe-4b79-afbd-3a2f4217601d button');\n",
              "      quickchartButtonEl.style.display =\n",
              "        google.colab.kernel.accessAllowed ? 'block' : 'none';\n",
              "    })();\n",
              "  </script>\n",
              "</div>\n",
              "\n",
              "    </div>\n",
              "  </div>\n"
            ],
            "application/vnd.google.colaboratory.intrinsic+json": {
              "type": "dataframe",
              "variable_name": "tienda1",
              "summary": "{\n  \"name\": \"tienda1\",\n  \"rows\": 2359,\n  \"fields\": [\n    {\n      \"column\": \"Producto\",\n      \"properties\": {\n        \"dtype\": \"category\",\n        \"num_unique_values\": 51,\n        \"samples\": [\n          \"Guitarra ac\\u00fastica\",\n          \"Bal\\u00f3n de baloncesto\",\n          \"Smartwatch\"\n        ],\n        \"semantic_type\": \"\",\n        \"description\": \"\"\n      }\n    },\n    {\n      \"column\": \"Categor\\u00eda del Producto\",\n      \"properties\": {\n        \"dtype\": \"category\",\n        \"num_unique_values\": 8,\n        \"samples\": [\n          \"Muebles\",\n          \"Deportes y diversi\\u00f3n\",\n          \"Electr\\u00f3nicos\"\n        ],\n        \"semantic_type\": \"\",\n        \"description\": \"\"\n      }\n    },\n    {\n      \"column\": \"Precio\",\n      \"properties\": {\n        \"dtype\": \"number\",\n        \"std\": 614686.7653873172,\n        \"min\": 7600.0,\n        \"max\": 2977000.0,\n        \"num_unique_values\": 1937,\n        \"samples\": [\n          2499400.0,\n          14800.0,\n          80500.0\n        ],\n        \"semantic_type\": \"\",\n        \"description\": \"\"\n      }\n    },\n    {\n      \"column\": \"Costo de env\\u00edo\",\n      \"properties\": {\n        \"dtype\": \"number\",\n        \"std\": 32860.0017825605,\n        \"min\": 0.0,\n        \"max\": 160800.0,\n        \"num_unique_values\": 753,\n        \"samples\": [\n          117800.0,\n          54700.0,\n          45600.0\n        ],\n        \"semantic_type\": \"\",\n        \"description\": \"\"\n      }\n    },\n    {\n      \"column\": \"Fecha de Compra\",\n      \"properties\": {\n        \"dtype\": \"object\",\n        \"num_unique_values\": 1018,\n        \"samples\": [\n          \"15/09/2022\",\n          \"03/06/2020\",\n          \"06/11/2021\"\n        ],\n        \"semantic_type\": \"\",\n        \"description\": \"\"\n      }\n    },\n    {\n      \"column\": \"Vendedor\",\n      \"properties\": {\n        \"dtype\": \"category\",\n        \"num_unique_values\": 14,\n        \"samples\": [\n          \"Juliana Costa\",\n          \"Mariana Herrera\",\n          \"Pedro Gomez\"\n        ],\n        \"semantic_type\": \"\",\n        \"description\": \"\"\n      }\n    },\n    {\n      \"column\": \"Lugar de Compra\",\n      \"properties\": {\n        \"dtype\": \"category\",\n        \"num_unique_values\": 19,\n        \"samples\": [\n          \"Bogot\\u00e1\",\n          \"Pereira\",\n          \"Neiva\"\n        ],\n        \"semantic_type\": \"\",\n        \"description\": \"\"\n      }\n    },\n    {\n      \"column\": \"Calificaci\\u00f3n\",\n      \"properties\": {\n        \"dtype\": \"number\",\n        \"std\": 1,\n        \"min\": 1,\n        \"max\": 5,\n        \"num_unique_values\": 5,\n        \"samples\": [\n          1,\n          2,\n          5\n        ],\n        \"semantic_type\": \"\",\n        \"description\": \"\"\n      }\n    },\n    {\n      \"column\": \"M\\u00e9todo de pago\",\n      \"properties\": {\n        \"dtype\": \"category\",\n        \"num_unique_values\": 4,\n        \"samples\": [\n          \"Nequi\",\n          \"Tarjeta de d\\u00e9bito\",\n          \"Tarjeta de cr\\u00e9dito\"\n        ],\n        \"semantic_type\": \"\",\n        \"description\": \"\"\n      }\n    },\n    {\n      \"column\": \"Cantidad de cuotas\",\n      \"properties\": {\n        \"dtype\": \"number\",\n        \"std\": 2,\n        \"min\": 1,\n        \"max\": 24,\n        \"num_unique_values\": 15,\n        \"samples\": [\n          7,\n          14,\n          8\n        ],\n        \"semantic_type\": \"\",\n        \"description\": \"\"\n      }\n    },\n    {\n      \"column\": \"lat\",\n      \"properties\": {\n        \"dtype\": \"number\",\n        \"std\": 2.2874452492678627,\n        \"min\": -4.21528,\n        \"max\": 11.54444,\n        \"num_unique_values\": 19,\n        \"samples\": [\n          4.60971,\n          4.81333,\n          2.9273\n        ],\n        \"semantic_type\": \"\",\n        \"description\": \"\"\n      }\n    },\n    {\n      \"column\": \"lon\",\n      \"properties\": {\n        \"dtype\": \"number\",\n        \"std\": 1.2178272727088486,\n        \"min\": -77.28111,\n        \"max\": -67.9239,\n        \"num_unique_values\": 19,\n        \"samples\": [\n          -74.08175,\n          -75.69611,\n          -75.28189\n        ],\n        \"semantic_type\": \"\",\n        \"description\": \"\"\n      }\n    }\n  ]\n}"
            }
          },
          "metadata": {},
          "execution_count": 82
        }
      ],
      "source": [
        "import pandas as pd\n",
        "import matplotlib.pyplot as plt\n",
        "import numpy as np\n",
        "\n",
        "url1 = \"https://raw.githubusercontent.com/alura-es-cursos/challenge1-data-science-latam/refs/heads/main/base-de-datos-challenge1-latam/tienda_1%20.csv\"\n",
        "url2 = \"https://raw.githubusercontent.com/alura-es-cursos/challenge1-data-science-latam/refs/heads/main/base-de-datos-challenge1-latam/tienda_2.csv\"\n",
        "url3 = \"https://raw.githubusercontent.com/alura-es-cursos/challenge1-data-science-latam/refs/heads/main/base-de-datos-challenge1-latam/tienda_3.csv\"\n",
        "url4 = \"https://raw.githubusercontent.com/alura-es-cursos/challenge1-data-science-latam/refs/heads/main/base-de-datos-challenge1-latam/tienda_4.csv\"\n",
        "\n",
        "tienda1 = pd.read_csv(url1)\n",
        "tienda2 = pd.read_csv(url2)\n",
        "tienda3 = pd.read_csv(url3)\n",
        "tienda4 = pd.read_csv(url4)\n",
        "\n",
        "tienda1.head()"
      ]
    },
    {
      "cell_type": "markdown",
      "source": [
        "#1. Análisis de facturación\n",
        "\n"
      ],
      "metadata": {
        "id": "X62IW3KFUIYm"
      }
    },
    {
      "cell_type": "code",
      "source": [
        "venta1 = tienda1[\"Precio\"].sum()\n",
        "venta2 = tienda2[\"Precio\"].sum()\n",
        "venta3 = tienda3[\"Precio\"].sum()\n",
        "venta4 = tienda4[\"Precio\"].sum()\n",
        "\n",
        "print(venta1)"
      ],
      "metadata": {
        "id": "xykobSftV64I",
        "colab": {
          "base_uri": "https://localhost:8080/"
        },
        "outputId": "7af11b2a-eccf-49ee-dafe-b914e51f9ad2"
      },
      "execution_count": 58,
      "outputs": [
        {
          "output_type": "stream",
          "name": "stdout",
          "text": [
            "1150880400.0\n"
          ]
        }
      ]
    },
    {
      "cell_type": "code",
      "source": [
        "venta_promedio1 = tienda1[\"Precio\"].mean()\n",
        "venta_promedio2 = tienda2[\"Precio\"].mean()\n",
        "venta_promedio3 = tienda3[\"Precio\"].mean()\n",
        "venta_promedio4 = tienda4[\"Precio\"].mean()\n",
        "\n",
        "print(venta_promedio1)"
      ],
      "metadata": {
        "id": "KDyr8E71V3m-",
        "colab": {
          "base_uri": "https://localhost:8080/"
        },
        "outputId": "4a7a24a8-6e8f-4147-b4ae-dc43a813c656"
      },
      "execution_count": 59,
      "outputs": [
        {
          "output_type": "stream",
          "name": "stdout",
          "text": [
            "487867.9101314116\n"
          ]
        }
      ]
    },
    {
      "cell_type": "markdown",
      "source": [
        "# 2. Ventas por categoría"
      ],
      "metadata": {
        "id": "2V_vcAPzWZmR"
      }
    },
    {
      "cell_type": "code",
      "source": [
        "venta_categoria1 = tienda1[\"Categoría del Producto\"].value_counts()\n",
        "venta_categoria2 = tienda2[\"Categoría del Producto\"].value_counts()\n",
        "venta_categoria3 = tienda3[\"Categoría del Producto\"].value_counts()\n",
        "venta_categoria4 = tienda4[\"Categoría del Producto\"].value_counts()\n",
        "\n",
        "print(venta_categoria1)"
      ],
      "metadata": {
        "id": "A34YupIuYhfF",
        "colab": {
          "base_uri": "https://localhost:8080/"
        },
        "outputId": "341204d2-5141-4e10-8368-7b5ee50e8683"
      },
      "execution_count": 60,
      "outputs": [
        {
          "output_type": "stream",
          "name": "stdout",
          "text": [
            "Categoría del Producto\n",
            "Muebles                    465\n",
            "Electrónicos               448\n",
            "Juguetes                   324\n",
            "Electrodomésticos          312\n",
            "Deportes y diversión       284\n",
            "Instrumentos musicales     182\n",
            "Libros                     173\n",
            "Artículos para el hogar    171\n",
            "Name: count, dtype: int64\n"
          ]
        }
      ]
    },
    {
      "cell_type": "code",
      "source": [],
      "metadata": {
        "id": "yZR6cOjXYSk1"
      },
      "execution_count": 60,
      "outputs": []
    },
    {
      "cell_type": "markdown",
      "source": [
        "# 3. Calificación promedio de la tienda\n"
      ],
      "metadata": {
        "id": "Rq6tU_xSY3jk"
      }
    },
    {
      "cell_type": "code",
      "source": [
        "promedio1 = tienda1[\"Calificación\"].mean()\n",
        "promedio2 = tienda2[\"Calificación\"].mean()\n",
        "promedio3 = tienda3[\"Calificación\"].mean()\n",
        "promedio4 = tienda4[\"Calificación\"].mean()\n",
        "\n",
        "print(promedio1)"
      ],
      "metadata": {
        "id": "bh3jjjJwY5MU",
        "colab": {
          "base_uri": "https://localhost:8080/"
        },
        "outputId": "7395ae97-be58-48d8-8377-3762e5d96118"
      },
      "execution_count": 61,
      "outputs": [
        {
          "output_type": "stream",
          "name": "stdout",
          "text": [
            "3.976685036032217\n"
          ]
        }
      ]
    },
    {
      "cell_type": "code",
      "source": [
        "promedio_categoria1 = tienda1.groupby(\"Categoría del Producto\")[\"Calificación\"].mean()\n",
        "promedio_categoria2 = tienda2.groupby(\"Categoría del Producto\")[\"Calificación\"].mean()\n",
        "promedio_categoria3 = tienda3.groupby(\"Categoría del Producto\")[\"Calificación\"].mean()\n",
        "promedio_categoria4 = tienda4.groupby(\"Categoría del Producto\")[\"Calificación\"].mean()\n",
        "\n",
        "\n",
        "print(promedio_categoria1)"
      ],
      "metadata": {
        "id": "I0KkjPoTY88F",
        "colab": {
          "base_uri": "https://localhost:8080/"
        },
        "outputId": "2c353796-7fe5-4ff6-e2bc-4845a0a7bfd7"
      },
      "execution_count": 62,
      "outputs": [
        {
          "output_type": "stream",
          "name": "stdout",
          "text": [
            "Categoría del Producto\n",
            "Artículos para el hogar    3.748538\n",
            "Deportes y diversión       3.897887\n",
            "Electrodomésticos          4.032051\n",
            "Electrónicos               4.004464\n",
            "Instrumentos musicales     4.049451\n",
            "Juguetes                   4.077160\n",
            "Libros                     3.976879\n",
            "Muebles                    3.946237\n",
            "Name: Calificación, dtype: float64\n"
          ]
        }
      ]
    },
    {
      "cell_type": "markdown",
      "source": [
        "# 4. Productos más y menos vendidos"
      ],
      "metadata": {
        "id": "DmNp1KPBZCm-"
      }
    },
    {
      "cell_type": "code",
      "source": [
        "venta_producto1 = tienda1[\"Producto\"].value_counts()\n",
        "venta_producto2 = tienda2[\"Producto\"].value_counts()\n",
        "venta_producto3 = tienda3[\"Producto\"].value_counts()\n",
        "venta_producto4 = tienda4[\"Producto\"].value_counts()\n",
        "\n",
        "print(venta_producto1)"
      ],
      "metadata": {
        "id": "qoyjqijQZHfF",
        "colab": {
          "base_uri": "https://localhost:8080/"
        },
        "outputId": "7ab1a1bc-f3ca-4ec7-a23a-71630d6cb05b"
      },
      "execution_count": 63,
      "outputs": [
        {
          "output_type": "stream",
          "name": "stdout",
          "text": [
            "Producto\n",
            "Microondas                     60\n",
            "TV LED UHD 4K                  60\n",
            "Armario                        60\n",
            "Secadora de ropa               58\n",
            "Mesa de noche                  56\n",
            "Bloques de construcción        56\n",
            "Balón de baloncesto            55\n",
            "Bicicleta                      54\n",
            "Vaso térmico                   54\n",
            "Refrigerador                   54\n",
            "Impresora                      54\n",
            "Batería                        53\n",
            "Cubertería                     52\n",
            "Carrito de control remoto      52\n",
            "Modelado predictivo            51\n",
            "Auriculares                    50\n",
            "Ajedrez de madera              49\n",
            "Iphone 15                      49\n",
            "Lavavajillas                   48\n",
            "Lavadora de ropa               47\n",
            "Guitarra eléctrica             47\n",
            "Guitarra acústica              46\n",
            "Sofá reclinable                46\n",
            "Silla de oficina               46\n",
            "Estufa                         45\n",
            "Cama box                       44\n",
            "Kit de bancas                  44\n",
            "Smart TV                       44\n",
            "Cama king                      44\n",
            "Cubo mágico 8x8                44\n",
            "Mesa de centro                 44\n",
            "Set de ollas                   43\n",
            "Smartwatch                     43\n",
            "Juego de mesa                  43\n",
            "Balón de voleibol              42\n",
            "Dashboards con Power BI        42\n",
            "Tablet ABXY                    42\n",
            "Sillón                         41\n",
            "Iniciando en programación      41\n",
            "Set de vasos                   41\n",
            "Asistente virtual              40\n",
            "Muñeca bebé                    40\n",
            "Mesa de comedor                40\n",
            "Dinosaurio Rex                 40\n",
            "Cuerda para saltar             40\n",
            "Mochila                        39\n",
            "Ciencia de datos con Python    39\n",
            "Pandereta                      36\n",
            "Olla de presión                35\n",
            "Auriculares con micrófono      33\n",
            "Celular ABXY                   33\n",
            "Name: count, dtype: int64\n"
          ]
        }
      ]
    },
    {
      "cell_type": "code",
      "source": [
        "mas_vendido1 = venta_producto1.idxmax()\n",
        "menos_vendido1 = venta_producto1.idxmin()\n",
        "\n",
        "mas_vendido2 = venta_producto2.idxmax()\n",
        "menos_vendido2 = venta_producto2.idxmin()\n",
        "\n",
        "mas_vendido3 = venta_producto3.idxmax()\n",
        "menos_vendido3 = venta_producto3.idxmin()\n",
        "\n",
        "mas_vendido4 = venta_producto4.idxmax()\n",
        "menos_vendido4 = venta_producto4.idxmin()\n",
        "\n",
        "print(mas_vendido1)\n",
        "print(menos_vendido1)"
      ],
      "metadata": {
        "id": "0Sw3sd4IZIGW",
        "colab": {
          "base_uri": "https://localhost:8080/"
        },
        "outputId": "93ce8d6c-493b-4f22-8d20-56a3bccc9962"
      },
      "execution_count": 64,
      "outputs": [
        {
          "output_type": "stream",
          "name": "stdout",
          "text": [
            "Microondas\n",
            "Auriculares con micrófono\n"
          ]
        }
      ]
    },
    {
      "cell_type": "markdown",
      "source": [
        "# 5. Envío promedio por tienda"
      ],
      "metadata": {
        "id": "Fl0cGi3bZKqU"
      }
    },
    {
      "cell_type": "code",
      "source": [
        "costos_envio1 = tienda1[\"Costo de envío\"].sum()\n",
        "costos_envio2 = tienda2[\"Costo de envío\"].sum()\n",
        "costos_envio3 = tienda3[\"Costo de envío\"].sum()\n",
        "costos_envio4 = tienda4[\"Costo de envío\"].sum()\n",
        "\n",
        "print(costos_envio1)"
      ],
      "metadata": {
        "id": "S2JeaCykZNy9",
        "colab": {
          "base_uri": "https://localhost:8080/"
        },
        "outputId": "11c9971f-adcf-4550-e157-a4a6387f805b"
      },
      "execution_count": 65,
      "outputs": [
        {
          "output_type": "stream",
          "name": "stdout",
          "text": [
            "61377900.0\n"
          ]
        }
      ]
    },
    {
      "cell_type": "code",
      "source": [
        "promedio_costos_envio1 = tienda1[\"Costo de envío\"].mean()\n",
        "promedio_costos_envio2 = tienda2[\"Costo de envío\"].mean()\n",
        "promedio_costos_envio3 = tienda3[\"Costo de envío\"].mean()\n",
        "promedio_costos_envio4 = tienda4[\"Costo de envío\"].mean()\n",
        "\n",
        "print(promedio_costos_envio1)"
      ],
      "metadata": {
        "id": "0tSdCie9ZQlt",
        "colab": {
          "base_uri": "https://localhost:8080/"
        },
        "outputId": "d3093330-0513-4367-c39c-bcf4ac40154e"
      },
      "execution_count": 66,
      "outputs": [
        {
          "output_type": "stream",
          "name": "stdout",
          "text": [
            "26018.60958033065\n"
          ]
        }
      ]
    },
    {
      "cell_type": "markdown",
      "source": [
        "#Analisis de las tiendas"
      ],
      "metadata": {
        "id": "0zehdv24nwaY"
      }
    },
    {
      "cell_type": "code",
      "source": [
        "info_tienda1 = [venta1,promedio1,mas_vendido1,menos_vendido1,promedio_costos_envio1]\n",
        "info_tienda2 = [venta2,promedio2,mas_vendido2,menos_vendido2,promedio_costos_envio2]\n",
        "info_tienda3 = [venta3,promedio3,mas_vendido3,menos_vendido3,promedio_costos_envio3]\n",
        "info_tienda4 = [venta4,promedio4,mas_vendido4,menos_vendido4,promedio_costos_envio4]\n",
        "\n",
        "print(info_tienda1)\n",
        "print(info_tienda2)\n",
        "print(info_tienda3)\n",
        "print(info_tienda4)"
      ],
      "metadata": {
        "colab": {
          "base_uri": "https://localhost:8080/"
        },
        "id": "8FofodhUl7-y",
        "outputId": "33bcd3d8-4ab9-485b-e404-bd664f15fab2"
      },
      "execution_count": 67,
      "outputs": [
        {
          "output_type": "stream",
          "name": "stdout",
          "text": [
            "[np.float64(1150880400.0), np.float64(3.976685036032217), 'Microondas', 'Auriculares con micrófono', np.float64(26018.60958033065)]\n",
            "[np.float64(1116343500.0), np.float64(4.037303942348453), 'Iniciando en programación', 'Juego de mesa', np.float64(25216.235693090293)]\n",
            "[np.float64(1098019600.0), np.float64(4.048325561678677), 'Kit de bancas', 'Bloques de construcción', np.float64(24805.680373039424)]\n",
            "[np.float64(1038375700.0), np.float64(3.9957591178965224), 'Cama box', 'Guitarra eléctrica', np.float64(23459.457167090754)]\n"
          ]
        }
      ]
    },
    {
      "cell_type": "markdown",
      "source": [
        "Graficas"
      ],
      "metadata": {
        "id": "ynS-765OqEJm"
      }
    },
    {
      "cell_type": "code",
      "source": [
        "plt.style.use('_mpl-gallery')\n",
        "\n",
        "# plot:\n",
        "fig, ax = plt.subplots(2,2, figsize=(12, 6))\n",
        "\n",
        "ax[0,0].hist(tienda1[\"Costo de envío\"], bins=10, linewidth=0.5, edgecolor=\"white\")\n",
        "\n",
        "ax[0,0].set(xlim=(0, 170000), xticks=np.arange(0, 170000,17000),\n",
        "       ylim=(0, 1500), yticks=np.linspace(0, 1500, 10))\n",
        "\n",
        "ax[0,0].set_title(\"Tienda 1\")\n",
        "\n",
        "ax[0,1].hist(tienda2[\"Costo de envío\"], bins=10, linewidth=0.5, edgecolor=\"white\")\n",
        "\n",
        "ax[0,1].set(xlim=(0, 170000), xticks=np.arange(0, 170000,17000),\n",
        "       ylim=(0, 1500), yticks=np.linspace(0, 1500, 10))\n",
        "\n",
        "ax[0,1].set_title(\"Tienda 2\")\n",
        "\n",
        "ax[1,0].hist(tienda3[\"Costo de envío\"], bins=10, linewidth=0.5, edgecolor=\"white\")\n",
        "\n",
        "ax[1,0].set(xlim=(0, 170000), xticks=np.arange(0, 170000,17000),\n",
        "       ylim=(0, 1500), yticks=np.linspace(0, 1500, 10))\n",
        "\n",
        "ax[1,0].set_title(\"Tienda 3\")\n",
        "\n",
        "ax[1,1].hist(tienda4[\"Costo de envío\"], bins=10, linewidth=0.5, edgecolor=\"white\")\n",
        "\n",
        "ax[1,1].set(xlim=(0, 170000), xticks=np.arange(0, 170000,17000),\n",
        "       ylim=(0, 1500), yticks=np.linspace(0, 1500, 10))\n",
        "\n",
        "ax[1,1].set_title(\"Tienda 4\")\n",
        "\n",
        "plt.show()"
      ],
      "metadata": {
        "colab": {
          "base_uri": "https://localhost:8080/",
          "height": 666
        },
        "id": "AYI1cMzSoVGx",
        "outputId": "e1dbb535-a2d5-412b-b12e-c05696771c23"
      },
      "execution_count": 68,
      "outputs": [
        {
          "output_type": "display_data",
          "data": {
            "text/plain": [
              "<Figure size 1200x600 with 4 Axes>"
            ],
            "image/png": "[encoded data removed]"
          },
          "metadata": {}
        }
      ]
    },
    {
      "cell_type": "code",
      "source": [
        "import matplotlib.pyplot as plt\n",
        "\n",
        "fig, ax = plt.subplots()\n",
        "\n",
        "fruits = ['tienda1', 'tienda2', 'tienda3', 'tienda4']\n",
        "counts = [venta1/1000000, venta2/1000000, venta3/1000000, venta4/1000000]\n",
        "bar_colors = ['tab:red', 'tab:blue', 'tab:green', 'tab:orange']\n",
        "\n",
        "ax.bar(fruits, counts, color=bar_colors)\n",
        "\n",
        "ax.set(ylim=(1000, 1200))\n",
        "\n",
        "ax.set_ylabel('Venta en millones de pesos')\n",
        "ax.set_title('Ventas totales')\n",
        "\n",
        "plt.show()"
      ],
      "metadata": {
        "colab": {
          "base_uri": "https://localhost:8080/",
          "height": 274
        },
        "id": "1iskFM8Bq-CT",
        "outputId": "caf7e286-b250-4f00-8e59-af5cb8022385"
      },
      "execution_count": 69,
      "outputs": [
        {
          "output_type": "display_data",
          "data": {
            "text/plain": [
              "<Figure size 200x200 with 1 Axes>"
            ],
            "image/png": "[encoded data removed]"
          },
          "metadata": {}
        }
      ]
    },
    {
      "cell_type": "code",
      "source": [
        "ganancia1 = venta1 - costos_envio1\n",
        "ganancia2 = venta2 - costos_envio2\n",
        "ganancia3 = venta3 - costos_envio3\n",
        "ganancia4 = venta4 - costos_envio4\n",
        "\n",
        "ganancia_promedio1 = venta_promedio1 - promedio_costos_envio1\n",
        "ganancia_promedio2 = venta_promedio2 - promedio_costos_envio2\n",
        "ganancia_promedio3 = venta_promedio3 - promedio_costos_envio3\n",
        "ganancia_promedio4 = venta_promedio4 - promedio_costos_envio4\n",
        "\n",
        "print(ganancia1)"
      ],
      "metadata": {
        "colab": {
          "base_uri": "https://localhost:8080/"
        },
        "id": "ATjzQcpbxner",
        "outputId": "d2615e8d-068c-486a-c661-09047fc0cc66"
      },
      "execution_count": 70,
      "outputs": [
        {
          "output_type": "stream",
          "name": "stdout",
          "text": [
            "1089502500.0\n"
          ]
        }
      ]
    },
    {
      "cell_type": "code",
      "source": [
        "ganancias = [ganancia1,ganancia2,ganancia3,ganancia4]\n",
        "ganancias_promedio = [ganancia_promedio1,ganancia_promedio2,ganancia_promedio3,ganancia_promedio4]\n",
        "promedios = [promedio1,promedio2,promedio3,promedio4]"
      ],
      "metadata": {
        "id": "YVKa8PdWEcww"
      },
      "execution_count": 71,
      "outputs": []
    },
    {
      "cell_type": "code",
      "source": [
        "fig, ax = plt.subplots(figsize=(5, 2.7))\n",
        "ax.scatter(promedios, ganancias, s=50, facecolor='C0', edgecolor='k')"
      ],
      "metadata": {
        "colab": {
          "base_uri": "https://localhost:8080/",
          "height": 352
        },
        "id": "O0pdRQrmFcXh",
        "outputId": "cb47f05b-1fef-46c0-e834-73b3b4e703f7"
      },
      "execution_count": 72,
      "outputs": [
        {
          "output_type": "execute_result",
          "data": {
            "text/plain": [
              "<matplotlib.collections.PathCollection at 0x7b00f879b550>"
            ]
          },
          "metadata": {},
          "execution_count": 72
        },
        {
          "output_type": "display_data",
          "data": {
            "text/plain": [
              "<Figure size 500x270 with 1 Axes>"
            ],
            "image/png": "[encoded data removed]"
          },
          "metadata": {}
        }
      ]
    },
    {
      "cell_type": "markdown",
      "source": [
        "#Conclusion\n",
        "\n",
        " Podemos ver que la tienda que deberia de vender el Sr. Juan deberria ser la tienda 4, debido a que es la que genera menos ganacias y es la segunda peor calificada en promedio, la siguiente opcion seria la tienda 1 debido a que es la que tiene peor calificacion promedio pero lo compensa debido a que es la que tiene mayor ganancia de las cuatro tiendas."
      ],
      "metadata": {
        "id": "0WMsDvoSFzyp"
      }
    }
  ]
}